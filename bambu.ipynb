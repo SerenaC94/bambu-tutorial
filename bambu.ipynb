{
  "nbformat": 4,
  "nbformat_minor": 0,
  "metadata": {
    "colab": {
      "name": "Copy of bambu.ipynb",
      "provenance": [],
      "collapsed_sections": []
    },
    "kernelspec": {
      "name": "python3",
      "display_name": "Python 3"
    },
    "language_info": {
      "name": "python"
    }
  },
  "cells": [
    {
      "cell_type": "markdown",
      "metadata": {
        "id": "c97blcSRzP24"
      },
      "source": [
        "# **Initial setup**\n",
        "\n",
        "Install Bambu and required packages:"
      ]
    },
    {
      "cell_type": "code",
      "metadata": {
        "id": "LCIFdCihzM6S"
      },
      "source": [
        "!echo pip install gdown\n",
        "!gdown --id 1TRRbCaOeKFK83DtxQfOuGNA_ZP0RLYSG\n",
        "!tar xvf dist.tar.xz -C /\n",
        "!apt install verilator\n",
        "!apt install iverilog\n",
        "!apt install clang-6.0\n",
        "!apt install libclang-6.0-dev\n",
        "!apt install gcc-7-multilib\n",
        "!apt install libbdd-dev"
      ],
      "execution_count": null,
      "outputs": []
    },
    {
      "cell_type": "markdown",
      "metadata": {
        "id": "FfqJ_WhOiB-A"
      },
      "source": [
        "Edit PATH variable:"
      ]
    },
    {
      "cell_type": "code",
      "metadata": {
        "id": "qFPREPl2IFbo"
      },
      "source": [
        "%env PATH=/opt/panda/bin:/usr/local/nvidia/bin:/usr/local/cuda/bin:/usr/local/sbin:/usr/local/bin:/usr/sbin:/usr/bin:/sbin:/bin:/tools/node/bin:/tools/google-cloud-sdk/bin:/opt/bin"
      ],
      "execution_count": null,
      "outputs": []
    },
    {
      "cell_type": "markdown",
      "metadata": {
        "id": "St4YkjZRjLWN"
      },
      "source": [
        "Clone exercises repository:"
      ]
    },
    {
      "cell_type": "code",
      "metadata": {
        "id": "rGIIMMugjEim"
      },
      "source": [
        "!git clone https://github.com/SerenaC94/bambu-tutorial.git\n",
        "%cd bambu-tutorial\n",
        "!ls"
      ],
      "execution_count": null,
      "outputs": []
    },
    {
      "cell_type": "markdown",
      "metadata": {
        "id": "la-zNHdckW4f"
      },
      "source": [
        "# **Introduction**\n",
        "\n",
        "Have a look at the C code for Exercise 1: /content/bambu-tutorial/01-introduction/Exercise1/module.c\n",
        "\n",
        "Launch bambu:"
      ]
    },
    {
      "cell_type": "code",
      "metadata": {
        "id": "pjUguz8lZr_2"
      },
      "source": [
        "% cd 01-introduction/Exercise1\n",
        "!bambu module.c --top-fname=icrc1 --simulator=VERILATOR --simulate --generate-tb=test_icrc1.xml -v2 --print-dot --pretty-print=a.c 2>&1 | tee icrc1.log"
      ],
      "execution_count": null,
      "outputs": []
    }
  ]
}